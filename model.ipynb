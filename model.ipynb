{
 "cells": [
  {
   "cell_type": "markdown",
   "metadata": {},
   "source": [
    "# Feature Selection, Dimentionality reduction and model development"
   ]
  },
  {
   "cell_type": "markdown",
   "metadata": {},
   "source": [
    "This notebooks contains code for data processing, feature selection and multiple model fitting and evaluation using california housing dataset \n"
   ]
  },
  {
   "cell_type": "code",
   "execution_count": 1,
   "metadata": {},
   "outputs": [],
   "source": [
    "# Import necessary libraries and functions\n",
    "from sklearn.datasets import fetch_california_housing\n",
    "import pandas as pd\n",
    "import matplotlib.pyplot as plt\n",
    "import seaborn as sns\n",
    "from sklearn.model_selection import train_test_split\n",
    "from sklearn.metrics import r2_score, mean_squared_error\n",
    "from sklearn.model_selection import cross_val_score\n",
    "from sklearn.svm import SVR\n",
    "from sklearn.linear_model import LinearRegression\n",
    "from sklearn.neighbors import KNeighborsRegressor\n",
    "from sklearn.linear_model import SGDRegressor\n",
    "from sklearn.linear_model import BayesianRidge\n",
    "from sklearn.tree import DecisionTreeRegressor\n",
    "from sklearn.ensemble import GradientBoostingRegressor\n",
    "from sklearn.feature_selection import mutual_info_regression, SelectPercentile, SelectKBest\n",
    "from sklearn.feature_selection import f_regression"
   ]
  },
  {
   "cell_type": "markdown",
   "metadata": {},
   "source": [
    "## Data processing"
   ]
  },
  {
   "cell_type": "code",
   "execution_count": 2,
   "metadata": {},
   "outputs": [
    {
     "name": "stdout",
     "output_type": "stream",
     "text": [
      ".. _california_housing_dataset:\n",
      "\n",
      "California Housing dataset\n",
      "--------------------------\n",
      "\n",
      "**Data Set Characteristics:**\n",
      "\n",
      "    :Number of Instances: 20640\n",
      "\n",
      "    :Number of Attributes: 8 numeric, predictive attributes and the target\n",
      "\n",
      "    :Attribute Information:\n",
      "        - MedInc        median income in block group\n",
      "        - HouseAge      median house age in block group\n",
      "        - AveRooms      average number of rooms per household\n",
      "        - AveBedrms     average number of bedrooms per household\n",
      "        - Population    block group population\n",
      "        - AveOccup      average number of household members\n",
      "        - Latitude      block group latitude\n",
      "        - Longitude     block group longitude\n",
      "\n",
      "    :Missing Attribute Values: None\n",
      "\n",
      "This dataset was obtained from the StatLib repository.\n",
      "https://www.dcc.fc.up.pt/~ltorgo/Regression/cal_housing.html\n",
      "\n",
      "The target variable is the median house value for California districts,\n",
      "expressed in hundreds of thousands of dollars ($100,000).\n",
      "\n",
      "This dataset was derived from the 1990 U.S. census, using one row per census\n",
      "block group. A block group is the smallest geographical unit for which the U.S.\n",
      "Census Bureau publishes sample data (a block group typically has a population\n",
      "of 600 to 3,000 people).\n",
      "\n",
      "An household is a group of people residing within a home. Since the average\n",
      "number of rooms and bedrooms in this dataset are provided per household, these\n",
      "columns may take surpinsingly large values for block groups with few households\n",
      "and many empty houses, such as vacation resorts.\n",
      "\n",
      "It can be downloaded/loaded using the\n",
      ":func:`sklearn.datasets.fetch_california_housing` function.\n",
      "\n",
      ".. topic:: References\n",
      "\n",
      "    - Pace, R. Kelley and Ronald Barry, Sparse Spatial Autoregressions,\n",
      "      Statistics and Probability Letters, 33 (1997) 291-297\n",
      "\n"
     ]
    }
   ],
   "source": [
    "# data formating\n",
    "housing = fetch_california_housing(as_frame= True) # access the data \n",
    "print(housing.DESCR) # print the description of the dataset"
   ]
  },
  {
   "cell_type": "code",
   "execution_count": 3,
   "metadata": {},
   "outputs": [],
   "source": [
    "# prepare labels and features   \n",
    "x = housing['data']\n",
    "y = housing['target']\n",
    "feature_names = housing['feature_names']"
   ]
  },
  {
   "cell_type": "markdown",
   "metadata": {},
   "source": [
    "## Supervied feature selection"
   ]
  },
  {
   "cell_type": "markdown",
   "metadata": {},
   "source": [
    "Function to evaluate at every step of feature selection to select the best feature using Linear Regression"
   ]
  },
  {
   "cell_type": "code",
   "execution_count": 4,
   "metadata": {},
   "outputs": [],
   "source": [
    "def checkFS(new_x, x, y, model):\n",
    "    # split the data\n",
    "    x_train, x_test, y_train, y_test = train_test_split(x, y, test_size=0.2, random_state=42)\n",
    "    # fit the model\n",
    "    model.fit(x_train, y_train)\n",
    "    # predict the model\n",
    "    y_pred = model.predict(x_test)\n",
    "    # calculate the r2 score\n",
    "    r2 = r2_score(y_test, y_pred)\n",
    "    # calculate the mean squared error\n",
    "    mse = mean_squared_error(y_test, y_pred)\n",
    "    # print the r2 score and mean squared error\n",
    "    print(f\"R2 score: {r2}\")\n",
    "    print(f\"Mean Squared Error: {mse}\")\n",
    "    x_train, x_test, y_train, y_test = train_test_split(new_x, y, test_size=0.2, random_state=42)\n",
    "    # fit the model with the new x\n",
    "    model.fit(x_train, y_train)\n",
    "    # predict the model with the new x\n",
    "    y_pred = model.predict(x_test)\n",
    "    # calculate the r2 score with the new x\n",
    "    r2_new = r2_score(y_test, y_pred)\n",
    "    # calculate the mean squared error with the new x\n",
    "    mse_new = mean_squared_error(y_test, y_pred)\n",
    "    # print the r2 score and mean squared error with the new x\n",
    "    print(f\"R2 score with new x: {r2_new}\")\n",
    "    print(f\"Mean Squared Error with new x: {mse_new}\")"
   ]
  },
  {
   "cell_type": "markdown",
   "metadata": {},
   "source": [
    "### Selecting features using mutual info regression"
   ]
  },
  {
   "cell_type": "markdown",
   "metadata": {},
   "source": [
    "Visualize the dependency score of each features for better selection"
   ]
  },
  {
   "cell_type": "code",
   "execution_count": 5,
   "metadata": {},
   "outputs": [
    {
     "data": {
      "image/png": "[encoded data removed]",
      "text/plain": [
       "<Figure size 432x288 with 1 Axes>"
      ]
     },
     "metadata": {
      "needs_background": "light"
     },
     "output_type": "display_data"
    }
   ],
   "source": [
    "# mutual_info_regression based selection of features\n",
    "mi = mutual_info_regression(x, y)\n",
    "mi = pd.Series(mi)\n",
    "mi.index = feature_names\n",
    "mi = mi.sort_values(ascending=False)\n",
    "mi.plot.bar()\n",
    "plt.show()"
   ]
  },
  {
   "cell_type": "markdown",
   "metadata": {},
   "source": [
    "Select the top 5 features of data and run linear regression model to evaluate the performance"
   ]
  },
  {
   "cell_type": "code",
   "execution_count": 6,
   "metadata": {},
   "outputs": [
    {
     "name": "stdout",
     "output_type": "stream",
     "text": [
      "Selected Features: ['MedInc', 'AveRooms', 'AveOccup', 'Latitude', 'Longitude']\n"
     ]
    }
   ],
   "source": [
    "x_mi = SelectPercentile(mutual_info_regression, percentile=60).fit(x, y)\n",
    "selected_features_mask = x_mi.get_support()\n",
    "selected_features = x.columns[selected_features_mask].tolist()\n",
    "print(\"Selected Features:\", selected_features)"
   ]
  },
  {
   "cell_type": "markdown",
   "metadata": {},
   "source": [
    "Subset the x with selected features"
   ]
  },
  {
   "cell_type": "code",
   "execution_count": 7,
   "metadata": {},
   "outputs": [],
   "source": [
    "# subset x using mutual_info_regression\n",
    "x_mi = SelectPercentile(mutual_info_regression, percentile=60).fit_transform(x, y)"
   ]
  },
  {
   "cell_type": "markdown",
   "metadata": {},
   "source": [
    "Comparasion of subset dataset with original dataset"
   ]
  },
  {
   "cell_type": "code",
   "execution_count": 8,
   "metadata": {},
   "outputs": [
    {
     "name": "stdout",
     "output_type": "stream",
     "text": [
      "R2 score: 0.575787706032451\n",
      "Mean Squared Error: 0.5558915986952441\n",
      "R2 score with new x: 0.5732648513884984\n",
      "Mean Squared Error with new x: 0.5591975700714763\n"
     ]
    }
   ],
   "source": [
    "# Check the score\n",
    "checkFS(x_mi, x, y, LinearRegression())"
   ]
  },
  {
   "cell_type": "markdown",
   "metadata": {},
   "source": [
    "### Selecting features using f_regression"
   ]
  },
  {
   "cell_type": "markdown",
   "metadata": {},
   "source": [
    "Visualize the dependency score of each features for better selection"
   ]
  },
  {
   "cell_type": "code",
   "execution_count": 9,
   "metadata": {},
   "outputs": [
    {
     "data": {
      "image/png": "[encoded data removed]",
      "text/plain": [
       "<Figure size 432x288 with 1 Axes>"
      ]
     },
     "metadata": {
      "needs_background": "light"
     },
     "output_type": "display_data"
    }
   ],
   "source": [
    "# mutual_info_regression based selection of features\n",
    "mi = f_regression(x, y)\n",
    "mi = pd.Series(mi[0])\n",
    "mi.index = feature_names\n",
    "mi = mi.sort_values(ascending=False)\n",
    "mi.plot.bar()\n",
    "plt.show()"
   ]
  },
  {
   "cell_type": "markdown",
   "metadata": {},
   "source": [
    "Subset x with the best selected features"
   ]
  },
  {
   "cell_type": "code",
   "execution_count": 10,
   "metadata": {},
   "outputs": [],
   "source": [
    "x_f = SelectKBest(f_regression, k=4 ).fit_transform(x, y)"
   ]
  },
  {
   "cell_type": "markdown",
   "metadata": {},
   "source": [
    "Comparasion of f_regression subset x with original x"
   ]
  },
  {
   "cell_type": "code",
   "execution_count": 11,
   "metadata": {},
   "outputs": [
    {
     "name": "stdout",
     "output_type": "stream",
     "text": [
      "R2 score: 0.575787706032451\n",
      "Mean Squared Error: 0.5558915986952441\n",
      "R2 score with new x: 0.5043169272470043\n",
      "Mean Squared Error with new x: 0.6495475488975627\n"
     ]
    }
   ],
   "source": [
    "# Check the score\n",
    "checkFS(x_f, x, y, LinearRegression())"
   ]
  },
  {
   "cell_type": "markdown",
   "metadata": {},
   "source": [
    "### Pearson Correlation - feature selection"
   ]
  },
  {
   "cell_type": "code",
   "execution_count": 12,
   "metadata": {},
   "outputs": [
    {
     "data": {
      "text/plain": [
       "<AxesSubplot:>"
      ]
     },
     "execution_count": 12,
     "metadata": {},
     "output_type": "execute_result"
    },
    {
     "data": {
      "image/png": "[encoded data removed]",
      "text/plain": [
       "<Figure size 504x504 with 2 Axes>"
      ]
     },
     "metadata": {
      "needs_background": "light"
     },
     "output_type": "display_data"
    }
   ],
   "source": [
    "# correlation between features\n",
    "x_df = pd.DataFrame(x, columns=housing['feature_names'])\n",
    "y_df = pd.DataFrame(y, columns=['target'])\n",
    "df = pd.concat([x_df, y_df], axis=1)\n",
    "correlation = df.corr()\n",
    "plt.figure(figsize=(7, 7))\n",
    "sns.heatmap(correlation, annot=True, cmap='coolwarm')"
   ]
  },
  {
   "cell_type": "code",
   "execution_count": 14,
   "metadata": {},
   "outputs": [
    {
     "name": "stdout",
     "output_type": "stream",
     "text": [
      "Longitude variance: 4.014139367081251\n",
      "Latitude variance: 4.562292644202798\n",
      "Average Rooms variance: 6.12153272384879\n",
      "Average Bedrooms variance: 0.2245915001886127\n"
     ]
    }
   ],
   "source": [
    "# variance of longitude, latitude ,Average Rooms  and Average Bedrooms\n",
    "print(\"Longitude variance:\", x_df['Longitude'].var())\n",
    "print(\"Latitude variance:\", x_df['Latitude'].var())\n",
    "print(\"Average Rooms variance:\", x_df['AveRooms'].var())\n",
    "print(\"Average Bedrooms variance:\", x_df['AveBedrms'].var())"
   ]
  },
  {
   "cell_type": "markdown",
   "metadata": {},
   "source": [
    "As longitude vs latitude and AveRooms vs AveBedrms are highly correlated and latitude and AveRooms have high variance respectively,so longitude and AveBedrms will be removed"
   ]
  },
  {
   "cell_type": "code",
   "execution_count": 15,
   "metadata": {},
   "outputs": [],
   "source": [
    "# subset x by removing longitude and AveBedrms\n",
    "x_subset = x_df.drop(['Longitude', 'AveBedrms'], axis=1)"
   ]
  },
  {
   "cell_type": "markdown",
   "metadata": {},
   "source": [
    "Check score"
   ]
  },
  {
   "cell_type": "code",
   "execution_count": 16,
   "metadata": {},
   "outputs": [
    {
     "name": "stdout",
     "output_type": "stream",
     "text": [
      "R2 score: 0.575787706032451\n",
      "Mean Squared Error: 0.5558915986952441\n",
      "R2 score with new x: 0.5059804263462322\n",
      "Mean Squared Error with new x: 0.6473676847426387\n"
     ]
    }
   ],
   "source": [
    "checkFS(x_subset, x, y, LinearRegression())"
   ]
  },
  {
   "cell_type": "markdown",
   "metadata": {},
   "source": [
    "### Recurive Feature Elimination (RFE)"
   ]
  },
  {
   "cell_type": "markdown",
   "metadata": {},
   "source": [
    "Subset the x data to contain best 5 features with lasso regression"
   ]
  },
  {
   "cell_type": "code",
   "execution_count": 17,
   "metadata": {},
   "outputs": [],
   "source": [
    "from sklearn.feature_selection import RFE\n",
    "from sklearn.linear_model import Lasso\n",
    "\n",
    "estimator = Lasso()\n",
    "x_rfe = RFE(estimator, n_features_to_select=5, step=1).fit_transform(x, y)"
   ]
  },
  {
   "cell_type": "markdown",
   "metadata": {},
   "source": [
    "Check the score"
   ]
  },
  {
   "cell_type": "code",
   "execution_count": 18,
   "metadata": {},
   "outputs": [
    {
     "name": "stdout",
     "output_type": "stream",
     "text": [
      "R2 score: 0.575787706032451\n",
      "Mean Squared Error: 0.5558915986952441\n",
      "R2 score with new x: 0.58111575601825\n",
      "Mean Squared Error with new x: 0.5489096741573366\n"
     ]
    }
   ],
   "source": [
    "# Check the score\n",
    "checkFS(x_rfe, x, y, LinearRegression())"
   ]
  },
  {
   "cell_type": "markdown",
   "metadata": {},
   "source": [
    "### Sequential Feature Selection "
   ]
  },
  {
   "cell_type": "code",
   "execution_count": 19,
   "metadata": {},
   "outputs": [],
   "source": [
    "from sklearn.feature_selection import SequentialFeatureSelector\n",
    "from sklearn.linear_model import RidgeCV\n",
    "\n",
    "ridge = RidgeCV().fit(x, y)"
   ]
  },
  {
   "cell_type": "code",
   "execution_count": 20,
   "metadata": {},
   "outputs": [],
   "source": [
    "sfs_forward = SequentialFeatureSelector(\n",
    "    ridge, n_features_to_select=6, direction=\"forward\"\n",
    ").fit(x, y)"
   ]
  },
  {
   "cell_type": "code",
   "execution_count": 21,
   "metadata": {},
   "outputs": [
    {
     "data": {
      "text/plain": [
       "(20640, 6)"
      ]
     },
     "execution_count": 21,
     "metadata": {},
     "output_type": "execute_result"
    }
   ],
   "source": [
    "x_sfs = sfs_forward.transform(x)\n",
    "x_sfs.shape"
   ]
  },
  {
   "cell_type": "code",
   "execution_count": 22,
   "metadata": {},
   "outputs": [
    {
     "name": "stdout",
     "output_type": "stream",
     "text": [
      "R2 score: 0.575787706032451\n",
      "Mean Squared Error: 0.5558915986952441\n",
      "R2 score with new x: 0.5099337366296423\n",
      "Mean Squared Error with new x: 0.6421872314534861\n"
     ]
    }
   ],
   "source": [
    "# Check the score\n",
    "checkFS(x_sfs, x, y, LinearRegression())"
   ]
  },
  {
   "cell_type": "markdown",
   "metadata": {},
   "source": [
    "## Unsupervised feature selection"
   ]
  },
  {
   "cell_type": "markdown",
   "metadata": {},
   "source": [
    "### Feature selection using PCA"
   ]
  },
  {
   "cell_type": "code",
   "execution_count": 23,
   "metadata": {},
   "outputs": [],
   "source": [
    "from sklearn.decomposition import PCA\n",
    "x_pca = PCA(n_components=7, svd_solver='full').fit_transform(x)"
   ]
  },
  {
   "cell_type": "code",
   "execution_count": 24,
   "metadata": {},
   "outputs": [
    {
     "name": "stdout",
     "output_type": "stream",
     "text": [
      "R2 score: 0.575787706032451\n",
      "Mean Squared Error: 0.5558915986952441\n",
      "R2 score with new x: 0.5827018886341137\n",
      "Mean Squared Error with new x: 0.5468311917368283\n"
     ]
    }
   ],
   "source": [
    "# Check the score\n",
    "checkFS(x_pca, x, y, LinearRegression())"
   ]
  },
  {
   "cell_type": "markdown",
   "metadata": {},
   "source": [
    "## Evaluate different model on the fifferent subset of x"
   ]
  },
  {
   "cell_type": "code",
   "execution_count": 25,
   "metadata": {},
   "outputs": [
    {
     "name": "stderr",
     "output_type": "stream",
     "text": [
      "c:\\Users\\sonti\\AppData\\Local\\Programs\\Python\\Python37\\lib\\site-packages\\sklearn\\linear_model\\_stochastic_gradient.py:1507: ConvergenceWarning: Maximum number of iteration reached before convergence. Consider increasing max_iter to improve the fit.\n",
      "  ConvergenceWarning,\n"
     ]
    }
   ],
   "source": [
    "models = []\n",
    "models.append((\"SVR\",SVR()))\n",
    "models.append((\"LinearRegression\",LinearRegression()))\n",
    "models.append((\"KNeighborsRegression\", KNeighborsRegressor()))\n",
    "models.append((\"SGDRegressor\", SGDRegressor()))\n",
    "models.append((\"BayesianRidge\", BayesianRidge()))\n",
    "models.append((\"DecisionTreeRegressor\", DecisionTreeRegressor()))\n",
    "models.append((\"GradientBoostingRegressor\", GradientBoostingRegressor()))\n",
    "subset_x = []\n",
    "subset_x.append((\"original\", x))\n",
    "subset_x.append((\"mutual_info_regression\", x_mi))\n",
    "subset_x.append((\"f_regression\", x_f))\n",
    "subset_x.append((\"subset\", x_subset))\n",
    "subset_x.append((\"RFE\", x_rfe))\n",
    "subset_x.append((\"SFS\", x_sfs))\n",
    "subset_x.append((\"PCA\", x_pca))\n",
    "# result table\n",
    "table = []\n",
    "\n",
    "# loop to fit each model and evaluate\n",
    "for name, model in models:\n",
    "    row = []\n",
    "    for name_x, x in subset_x:\n",
    "        x_train, x_test, y_train, y_test = train_test_split(x, y, test_size=0.2, random_state=42)\n",
    "        model.fit(x_train, y_train)\n",
    "        y_pred = model.predict(x_test)\n",
    "        r2 = r2_score(y_test, y_pred)\n",
    "        mse = mean_squared_error(y_test, y_pred)\n",
    "        table.append({\"data_subset\":name_x, \"r2\": r2, \"mse\": mse, \"model\":name})\n",
    "        # print(f\"{name} with {name_x} R2 score: {r2}\")\n",
    "        # print(f\"{name} with {name_x} Mean Squared Error: {mse}\")\n",
    "        \n"
   ]
  },
  {
   "cell_type": "code",
   "execution_count": 31,
   "metadata": {},
   "outputs": [],
   "source": [
    "# results to a pandas dataframe\n",
    "pd.set_option('display.float_format', lambda x: '%.3f' % x)\n",
    "result = pd.DataFrame.from_dict(table)"
   ]
  },
  {
   "cell_type": "code",
   "execution_count": 29,
   "metadata": {},
   "outputs": [
    {
     "data": {
      "text/html": [
       "<div>\n",
       "<style scoped>\n",
       "    .dataframe tbody tr th:only-of-type {\n",
       "        vertical-align: middle;\n",
       "    }\n",
       "\n",
       "    .dataframe tbody tr th {\n",
       "        vertical-align: top;\n",
       "    }\n",
       "\n",
       "    .dataframe thead th {\n",
       "        text-align: right;\n",
       "    }\n",
       "</style>\n",
       "<table border=\"1\" class=\"dataframe\">\n",
       "  <thead>\n",
       "    <tr style=\"text-align: right;\">\n",
       "      <th></th>\n",
       "      <th>data_subset</th>\n",
       "      <th>r2</th>\n",
       "      <th>mse</th>\n",
       "      <th>model</th>\n",
       "    </tr>\n",
       "  </thead>\n",
       "  <tbody>\n",
       "    <tr>\n",
       "      <th>42</th>\n",
       "      <td>original</td>\n",
       "      <td>0.776</td>\n",
       "      <td>0.294</td>\n",
       "      <td>GradientBoostingRegressor</td>\n",
       "    </tr>\n",
       "    <tr>\n",
       "      <th>43</th>\n",
       "      <td>mutual_info_regression</td>\n",
       "      <td>0.773</td>\n",
       "      <td>0.297</td>\n",
       "      <td>GradientBoostingRegressor</td>\n",
       "    </tr>\n",
       "    <tr>\n",
       "      <th>46</th>\n",
       "      <td>RFE</td>\n",
       "      <td>0.750</td>\n",
       "      <td>0.328</td>\n",
       "      <td>GradientBoostingRegressor</td>\n",
       "    </tr>\n",
       "    <tr>\n",
       "      <th>15</th>\n",
       "      <td>mutual_info_regression</td>\n",
       "      <td>0.750</td>\n",
       "      <td>0.328</td>\n",
       "      <td>KNeighborsRegression</td>\n",
       "    </tr>\n",
       "    <tr>\n",
       "      <th>48</th>\n",
       "      <td>PCA</td>\n",
       "      <td>0.713</td>\n",
       "      <td>0.376</td>\n",
       "      <td>GradientBoostingRegressor</td>\n",
       "    </tr>\n",
       "    <tr>\n",
       "      <th>45</th>\n",
       "      <td>subset</td>\n",
       "      <td>0.706</td>\n",
       "      <td>0.386</td>\n",
       "      <td>GradientBoostingRegressor</td>\n",
       "    </tr>\n",
       "    <tr>\n",
       "      <th>47</th>\n",
       "      <td>SFS</td>\n",
       "      <td>0.671</td>\n",
       "      <td>0.431</td>\n",
       "      <td>GradientBoostingRegressor</td>\n",
       "    </tr>\n",
       "    <tr>\n",
       "      <th>39</th>\n",
       "      <td>RFE</td>\n",
       "      <td>0.667</td>\n",
       "      <td>0.436</td>\n",
       "      <td>DecisionTreeRegressor</td>\n",
       "    </tr>\n",
       "    <tr>\n",
       "      <th>36</th>\n",
       "      <td>mutual_info_regression</td>\n",
       "      <td>0.660</td>\n",
       "      <td>0.445</td>\n",
       "      <td>DecisionTreeRegressor</td>\n",
       "    </tr>\n",
       "    <tr>\n",
       "      <th>35</th>\n",
       "      <td>original</td>\n",
       "      <td>0.631</td>\n",
       "      <td>0.484</td>\n",
       "      <td>DecisionTreeRegressor</td>\n",
       "    </tr>\n",
       "  </tbody>\n",
       "</table>\n",
       "</div>"
      ],
      "text/plain": [
       "               data_subset    r2   mse                      model\n",
       "42                original 0.776 0.294  GradientBoostingRegressor\n",
       "43  mutual_info_regression 0.773 0.297  GradientBoostingRegressor\n",
       "46                     RFE 0.750 0.328  GradientBoostingRegressor\n",
       "15  mutual_info_regression 0.750 0.328       KNeighborsRegression\n",
       "48                     PCA 0.713 0.376  GradientBoostingRegressor\n",
       "45                  subset 0.706 0.386  GradientBoostingRegressor\n",
       "47                     SFS 0.671 0.431  GradientBoostingRegressor\n",
       "39                     RFE 0.667 0.436      DecisionTreeRegressor\n",
       "36  mutual_info_regression 0.660 0.445      DecisionTreeRegressor\n",
       "35                original 0.631 0.484      DecisionTreeRegressor"
      ]
     },
     "execution_count": 29,
     "metadata": {},
     "output_type": "execute_result"
    }
   ],
   "source": [
    "# sort r2 in descending order and mse in ascending order\n",
    "result.sort_values(by=['r2'], ascending=False).head(10)"
   ]
  },
  {
   "cell_type": "code",
   "execution_count": 34,
   "metadata": {},
   "outputs": [
    {
     "data": {
      "image/png": "[encoded data removed]",
      "text/plain": [
       "<Figure size 2160x432 with 7 Axes>"
      ]
     },
     "metadata": {
      "needs_background": "light"
     },
     "output_type": "display_data"
    }
   ],
   "source": [
    "# subplot to show the results for each model\n",
    "plt.figure(figsize=(30, 6))\n",
    "for i, model in enumerate(models):\n",
    "    plt.subplot(1, 7, i+1)\n",
    "    sns.barplot(x=\"data_subset\", y=\"r2\", data=result[result[\"model\"]==model[0]])\n",
    "    plt.xlabel(\"\")\n",
    "    plt.title(model[0])\n",
    "    plt.xticks(rotation=90)"
   ]
  },
  {
   "cell_type": "code",
   "execution_count": 36,
   "metadata": {},
   "outputs": [
    {
     "data": {
      "image/png": "[encoded data removed]",
      "text/plain": [
       "<Figure size 2160x432 with 7 Axes>"
      ]
     },
     "metadata": {
      "needs_background": "light"
     },
     "output_type": "display_data"
    }
   ],
   "source": [
    "plt.figure(figsize=(30, 6))\n",
    "for i, model in enumerate(models):\n",
    "    plt.subplot(1, 7, i+1)\n",
    "    sns.barplot(x=\"data_subset\", y=\"mse\", data=result[result[\"model\"]==model[0]])\n",
    "    plt.xlabel(\"\")\n",
    "    plt.title(model[0])\n",
    "    plt.xticks(rotation=90)"
   ]
  }
 ],
 "metadata": {
  "kernelspec": {
   "display_name": "Python 3",
   "language": "python",
   "name": "python3"
  },
  "language_info": {
   "codemirror_mode": {
    "name": "ipython",
    "version": 3
   },
   "file_extension": ".py",
   "mimetype": "text/x-python",
   "name": "python",
   "nbconvert_exporter": "python",
   "pygments_lexer": "ipython3",
   "version": "3.7.9"
  }
 },
 "nbformat": 4,
 "nbformat_minor": 2
}
